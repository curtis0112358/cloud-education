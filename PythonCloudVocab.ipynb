{
 "cells": [
  {
   "cell_type": "markdown",
   "metadata": {},
   "source": [
    "<h1 style=\"color:dodgerblue\">Python</h1>"
   ]
  },
  {
   "cell_type": "markdown",
   "metadata": {},
   "source": [
    "<b style=\"color:blue\">Python:</b> Python is an all purpose programming langauge, meaning you can use it to create a website, solve differential equations, or analyze data in your local data lake. Python has become a popular language because of it it enables programmers to interact with the language in real time via a  <a href=\"#repl\">REPL</a> program, which flattens the learning curve and speeds up development times. It is an  <a href=\"#ipl\">interpreted programming language</a> which means it evaluate a statement at a time, as opposed to a <a href=\"#cpl\">compiled programming language</a> which evaluates manys statements at a time. This mostly serves as an advantage since compilation is a tedious process, and it doesn't align well with how we think as humans&mdash;see the section on <a href=\"#comp-thinking\">computational thinking<a> for more details. "
   ]
  },
  {
   "cell_type": "markdown",
   "metadata": {},
   "source": [
    "<b id=\"cpl\" style=\"color:blue\">Compiled Programming Language:</b> A compiled programming language translates an *entire program* via a series steps into machine code (zeros and ones) which instructs a CPU on exactly what <a href=\"https://en.wikipedia.org/wiki/Instruction_set_architecture\">CPU instructions</a> are to be exectued. While translating a *source code* written by the programmer, it may find inefficiencies which can be optimized away while still achieving the semantics of the code. (For example, is it faster to declare a variable in a while loop or outside of a while loop? It shouldn't matter a good compiler will optimize this detail away.) For this reason compiled languages are often much faster, however developing compiled code is often a tedious task, and to this end Python is often used to prototype programs that will later be implemented in compiled languages."
   ]
  },
  {
   "cell_type": "markdown",
   "metadata": {},
   "source": [
    "<b id=\"ipl\" style=\"color:blue\">Interpreted Programming Language:</b> An interperted programmingn language execute a statement at a time. This mean it doesn't know what your end goal is, and for this reason it may not compile to the most efficient set of instructions for your CPU to process. Note that all programming languages *compile* to machine code; it is the manner in which this compilation process happens which distingulishes compiled languages from interpreted languages."
   ]
  },
  {
   "cell_type": "markdown",
   "metadata": {},
   "source": [
    "<b id=\"repl\" style=\"color:blue\">REPL:</b> <a href=\"https://en.wikipedia.org/wiki/Read–eval–print_loop\">REPL</a> stands for Read, Evaluate, Print, and Loop. Most intepreted programming languages come with a REPL program the reads some input from the user, evaluates the expression/statement, and then prints out the results. When this is finished it waits for some more input. Python has a standard built in REPL, but a third party REPL known as <a href=\"#ipy\">IPython</a> offers extra features which lead to a more enjoyable experience. IPython is the foundation of <a href=\"#jupyter\">Jupyter Notebooks</a>."
   ]
  },
  {
   "cell_type": "markdown",
   "metadata": {},
   "source": [
    "<code style=\"color:blue\">pip</code>:</b> pip is the *preferred* package manager that allows you to install packages into a <a href=\"py-env\">Python environment</a>. It can install packages from a variety of channels, but the most common channel is <a href=\"www.pypi.org\">pypi.org</a>. For more details see <a href=\"https://docs.python.org/3/installing/index.html\">installing python modules</a>."
   ]
  },
  {
   "cell_type": "markdown",
   "metadata": {},
   "source": [
    "<code style=\"color:blue\">conda</code>:"
   ]
  },
  {
   "cell_type": "markdown",
   "metadata": {},
   "source": [
    "<b style=\"color:blue\">Anaconda:</b> Anaconda is a distribution of Python maintained by Continuumn analytics. This distribution is geared towards analyst and data scientist. It ships with many of the 3rd party packages that you one needs for analyis preinstalled. It also comes with the conda pacakage manager, and relies on conda virtual environments. This leads to a different feel than other distributions of Python, but it's purpose for this is to encourage self containded programs that can be shared with everyone. Additionally, if you install every to one enviroment and use this for every program, then you will likely run into some conflict with packages. Virtual environment, avoid this by only installing the bare minimum for each project."
   ]
  },
  {
   "cell_type": "markdown",
   "metadata": {},
   "source": [
    "<b style=\"color:blue\">Packages:</b> A is nothing more than a folder on a computer with Python installed meeting the following two criteria:\n",
    "<ol>\n",
    "    <li>The folder lies somewhere along Python's load path</li>\n",
    "    <li>It conatains a text file named __init__.py. This file can be empty, in which it serves the purpose of flagging the folder as a package for Python. However, we can also use this file to control how Python interfaces with our package. For instance, we can tell Python how we want it to implement the statement <code style=\"background:whitesmoke\">from module import *</code> using the special variable __all__.</li>\n",
    "</ol>"
   ]
  },
  {
   "cell_type": "markdown",
   "metadata": {},
   "source": [
    "Of course, a folder lying on Python's load path with nothing more than an empty \\_\\_init\\_\\_.py file is not very useful; nevertheless, you can import this *empty package* into your prorgram and you will not get any error or warnings, since an empty package is legitimate. \n",
    "\n",
    "What makes packages useful is that we can store useful code, data, and other artifacts that we might want Python to have access to. In the case of code we store this in text files with the file extension '.py', such a file is called a module. (Interestingly, we can also make an empty module, since no code is vacously valid Python.) We usually write useful code that we might want to reuse later like functions, classes, and constants into these modules. We can then Python's *import facility* allow us to import the modules stored in these package. When we import a module into one of our programs/sessions, it is essentially as if we had typed all of the code stored in the contents of the module's file and executed it in our Python interpeter thus making all of the definitions in that code available to our current session/program. (This is slighlty oversimplified, see the definition of <a href=\"#mods\">modules</a>.)"
   ]
  },
  {
   "cell_type": "markdown",
   "metadata": {},
   "source": [
    "<p style=\"background:honeydew;color:seagreen\">\n",
    "    <b>Remark:</b>\n",
    "Strictly speaking, requirement 2. is not a requirement for a folder to be a package in for Python 3; however, leaving it out does two thing 1) it makes your package load slower and 2) Python will treat it as a special kind of package called a <em>namespace package</em>, and if that is not your intention, then you should always include an __init__.py file in your packages even if it's empty.\n",
    "</p>"
   ]
  },
  {
   "cell_type": "markdown",
   "metadata": {},
   "source": [
    "<b id=\"mods\" style=\"color:blue\">Module:</b> A module is more or less prewritten code that the Python vitrtual machine (PVM) can interperate (or in the case of binaries passed directly on to the CPU???). It's a module doesn't necessarily need to be Python code, since someone could write [C extensions](https://dfm.io/posts/python-c-extensions/) to python and we would import these as modules. This is actually important, since without it tools like Pandas and Numpy would be unbariably slow. Nevetheless, it's reasonable to think of Modules "
   ]
  },
  {
   "cell_type": "markdown",
   "metadata": {},
   "source": [
    "<b style=\"color:blue\">CPython:</b> 'CPython is the reference implementation of the Python programming language. Written in C and Python, CPython is the default and most widely-used implementation of the language.' [Wikipedia](https://en.wikipedia.org/wiki/CPython) In other words, CPython is synonymous with Python. However, this term easily confused with another popular framework Cython."
   ]
  },
  {
   "cell_type": "markdown",
   "metadata": {},
   "source": [
    "<b style=\"color:blue\">Python Environments:</b>"
   ]
  },
  {
   "cell_type": "markdown",
   "metadata": {},
   "source": [
    "<b style=\"color:blue\">Python Distributions:</b>"
   ]
  },
  {
   "cell_type": "markdown",
   "metadata": {},
   "source": [
    "<b style=\"color:blue\">Jython:</b>"
   ]
  },
  {
   "cell_type": "markdown",
   "metadata": {},
   "source": [
    "<b style=\"color:blue\">Open Source:</b>"
   ]
  },
  {
   "cell_type": "markdown",
   "metadata": {},
   "source": [
    "<b style=\"color:blue\">Markdown:</b>"
   ]
  },
  {
   "cell_type": "markdown",
   "metadata": {},
   "source": [
    "<b style=\"color:blue\">HTML:</b>"
   ]
  },
  {
   "cell_type": "markdown",
   "metadata": {},
   "source": [
    "<b style=\"color:blue\">Functional Programming:</b>"
   ]
  },
  {
   "cell_type": "markdown",
   "metadata": {},
   "source": [
    "<b style=\"color:blue\">Object Orietated Programming:</b>"
   ]
  },
  {
   "cell_type": "markdown",
   "metadata": {},
   "source": [
    "<b style=\"color:blue\">COM:</b> The Common Object Model is a framework used by Windows to build applications such as excel. We can use a COM client to intect with the Excel Object Model in order to autmate essentially every aspect of Excel."
   ]
  },
  {
   "cell_type": "markdown",
   "metadata": {},
   "source": [
    "<b style=\"color:blue\">Kernel:</b>"
   ]
  },
  {
   "cell_type": "markdown",
   "metadata": {},
   "source": [
    "<b style=\"color:blue\">Notebook Server:</b>"
   ]
  },
  {
   "cell_type": "markdown",
   "metadata": {},
   "source": [
    "<h1 style=\"color:dodgerblue\">Cloud Computing, Virtualization, and Hadoop</h1>"
   ]
  },
  {
   "cell_type": "markdown",
   "metadata": {},
   "source": [
    "<b style=\"color:blue\">Hadoop:</b>"
   ]
  },
  {
   "cell_type": "markdown",
   "metadata": {},
   "source": [
    "<b style=\"color:blue\">Batch Processing</b>"
   ]
  },
  {
   "cell_type": "markdown",
   "metadata": {},
   "source": [
    "<b style=\"color:blue\">Data Streaming</b>"
   ]
  },
  {
   "cell_type": "markdown",
   "metadata": {},
   "source": [
    "<b style=\"color:blue\">vCPU:</b>"
   ]
  },
  {
   "cell_type": "markdown",
   "metadata": {},
   "source": [
    "<b style=\"color:blue\">AMIs:</b> Amazon Machine Images"
   ]
  },
  {
   "cell_type": "markdown",
   "metadata": {},
   "source": [
    "<b style=\"color:blue\">EC2 Intances:</b>"
   ]
  },
  {
   "cell_type": "markdown",
   "metadata": {},
   "source": [
    "<b style=\"color:blue\">EC2 Instance Families:</b>"
   ]
  },
  {
   "cell_type": "markdown",
   "metadata": {},
   "source": [
    "<b style=\"color:blue\">MapReduce:</b>"
   ]
  },
  {
   "cell_type": "markdown",
   "metadata": {},
   "source": [
    "<b style=\"color:blue\">Spot Pricing:</b>"
   ]
  },
  {
   "cell_type": "markdown",
   "metadata": {},
   "source": [
    "<b style=\"color:blue\">Bootstraping:</b>"
   ]
  },
  {
   "cell_type": "markdown",
   "metadata": {},
   "source": [
    "<b style=\"color:blue\">HDFS:</b>"
   ]
  },
  {
   "cell_type": "markdown",
   "metadata": {},
   "source": [
    "<b style=\"color:blue\">S3:</b>"
   ]
  },
  {
   "cell_type": "markdown",
   "metadata": {},
   "source": [
    "<b style=\"color:blue\">SageMaker:</b>"
   ]
  },
  {
   "cell_type": "markdown",
   "metadata": {},
   "source": [
    "<b style=\"color:blue\">EMR:</b>"
   ]
  },
  {
   "cell_type": "markdown",
   "metadata": {},
   "source": [
    "<b style=\"color:blue\">EMR Notebooks:</b>"
   ]
  },
  {
   "cell_type": "markdown",
   "metadata": {},
   "source": [
    "<b style=\"color:blue\">Jupyter Hub:</b>"
   ]
  },
  {
   "cell_type": "markdown",
   "metadata": {},
   "source": [
    "<b style=\"color:blue\">Clusters:</b>"
   ]
  },
  {
   "cell_type": "markdown",
   "metadata": {},
   "source": [
    "<b style=\"color:blue\">Hive:</b>"
   ]
  },
  {
   "cell_type": "markdown",
   "metadata": {},
   "source": [
    "<b style=\"color:blue\">Glue:</b>"
   ]
  },
  {
   "cell_type": "markdown",
   "metadata": {},
   "source": [
    "<b style=\"color:blue\">Hive Metastore:</b>"
   ]
  },
  {
   "cell_type": "markdown",
   "metadata": {},
   "source": [
    "<b style=\"color:blue\">EC2:</b>"
   ]
  },
  {
   "cell_type": "markdown",
   "metadata": {},
   "source": [
    "<b style=\"color:blue\">Schema on Read:</b>"
   ]
  },
  {
   "cell_type": "markdown",
   "metadata": {},
   "source": [
    "<b style=\"color:blue\">ETL:</b>"
   ]
  },
  {
   "cell_type": "markdown",
   "metadata": {},
   "source": [
    "<b style=\"color:blue\">Distributed Computing:</b>"
   ]
  },
  {
   "cell_type": "markdown",
   "metadata": {},
   "source": [
    "<b style=\"color:blue\">DBeaver:</b>"
   ]
  },
  {
   "cell_type": "markdown",
   "metadata": {},
   "source": [
    "<b style=\"color:blue\">Spark:</b>"
   ]
  },
  {
   "cell_type": "markdown",
   "metadata": {},
   "source": [
    "<b style=\"color:blue\">PySpark:</b>"
   ]
  },
  {
   "cell_type": "markdown",
   "metadata": {},
   "source": [
    "<b style=\"color:blue\">RDD:</b>"
   ]
  },
  {
   "cell_type": "markdown",
   "metadata": {},
   "source": [
    "<b style=\"color:blue\">Spark DataFrame:</b>"
   ]
  },
  {
   "cell_type": "markdown",
   "metadata": {},
   "source": [
    "<b style=\"color:blue\">Athena:</b>"
   ]
  },
  {
   "cell_type": "markdown",
   "metadata": {},
   "source": [
    "<b style=\"color:blue\">Presto:</b>"
   ]
  },
  {
   "cell_type": "markdown",
   "metadata": {},
   "source": [
    "<b style=\"color:blue\">ANSI SQL:</b>"
   ]
  },
  {
   "cell_type": "markdown",
   "metadata": {},
   "source": [
    "<b style=\"color:blue\">Oracle SQL:</b>"
   ]
  },
  {
   "cell_type": "markdown",
   "metadata": {},
   "source": [
    "<b style=\"color:blue\">DB2:</b>"
   ]
  },
  {
   "cell_type": "markdown",
   "metadata": {},
   "source": [
    "<b style=\"color:blue\">Redshift:</b>"
   ]
  },
  {
   "cell_type": "markdown",
   "metadata": {},
   "source": [
    "<b style=\"color:blue\">Snowflake:</b>"
   ]
  },
  {
   "cell_type": "markdown",
   "metadata": {},
   "source": [
    "<b style=\"color:blue\">Complex Data Types:</b>"
   ]
  },
  {
   "cell_type": "markdown",
   "metadata": {},
   "source": [
    "<b style=\"color:blue\">Trifacta:</b>"
   ]
  },
  {
   "cell_type": "markdown",
   "metadata": {},
   "source": [
    "<b style=\"color:blue\">Java:</b>"
   ]
  },
  {
   "cell_type": "markdown",
   "metadata": {},
   "source": [
    "<b style=\"color:blue\">Scala:</b>"
   ]
  },
  {
   "cell_type": "markdown",
   "metadata": {},
   "source": [
    "<b style=\"color:blue\">Core Nodes:</b>"
   ]
  },
  {
   "cell_type": "markdown",
   "metadata": {},
   "source": [
    "<b style=\"color:blue\">Master Nodes:</b>"
   ]
  },
  {
   "cell_type": "markdown",
   "metadata": {},
   "source": [
    "<b style=\"color:blue\">Task Node:</b>"
   ]
  },
  {
   "cell_type": "markdown",
   "metadata": {},
   "source": [
    "<b style=\"color:blue\">JAR files:</b>"
   ]
  },
  {
   "cell_type": "markdown",
   "metadata": {},
   "source": [
    "<b style=\"color:blue\">Parquet File:</b>"
   ]
  },
  {
   "cell_type": "markdown",
   "metadata": {},
   "source": [
    "<b style=\"color:blue\">ORC Files:</b>"
   ]
  },
  {
   "cell_type": "markdown",
   "metadata": {},
   "source": [
    "<b style=\"color:blue\">File Compression:</b>"
   ]
  },
  {
   "cell_type": "markdown",
   "metadata": {},
   "source": [
    "<b style=\"color:blue\">NoSQL:</b>"
   ]
  },
  {
   "cell_type": "markdown",
   "metadata": {},
   "source": [
    "<b style=\"color:blue\">SerDe:</b>"
   ]
  },
  {
   "cell_type": "markdown",
   "metadata": {},
   "source": [
    "<b style=\"color:blue\">Data In Transport:</b>"
   ]
  },
  {
   "cell_type": "markdown",
   "metadata": {},
   "source": [
    "<b style=\"color:blue\">Data at Rest:</b>"
   ]
  },
  {
   "cell_type": "markdown",
   "metadata": {},
   "source": [
    "<b style=\"color:blue\">Encryption:</b>"
   ]
  },
  {
   "cell_type": "markdown",
   "metadata": {},
   "source": [
    "<b style=\"color:blue\">SSL Certificates:</b>"
   ]
  },
  {
   "cell_type": "markdown",
   "metadata": {},
   "source": [
    "<b style=\"color:blue\">SSH:</b>"
   ]
  },
  {
   "cell_type": "markdown",
   "metadata": {},
   "source": [
    "<b style=\"color:blue\">Shells:</b>"
   ]
  },
  {
   "cell_type": "markdown",
   "metadata": {},
   "source": [
    "<b style=\"color:blue\">Git:</b>"
   ]
  },
  {
   "cell_type": "markdown",
   "metadata": {},
   "source": [
    "<b style=\"color:blue\">Bitbucket:</b>"
   ]
  },
  {
   "cell_type": "markdown",
   "metadata": {},
   "source": [
    "<b style=\"color:blue\">RDS:</b>"
   ]
  },
  {
   "cell_type": "markdown",
   "metadata": {},
   "source": [
    "<b style=\"color:blue\">Aurora:</b>"
   ]
  },
  {
   "cell_type": "markdown",
   "metadata": {},
   "source": [
    "<h1 style=\"color:dodgerblue\">Networks and Security</h1>"
   ]
  },
  {
   "cell_type": "markdown",
   "metadata": {},
   "source": [
    "<b style=\"color:blue\">Ports:</b>"
   ]
  },
  {
   "cell_type": "markdown",
   "metadata": {},
   "source": [
    "<b style=\"color:blue\">Security Keys:</b>"
   ]
  },
  {
   "cell_type": "markdown",
   "metadata": {},
   "source": [
    "<b style=\"color:blue\">IP Address:</b>"
   ]
  },
  {
   "cell_type": "markdown",
   "metadata": {},
   "source": [
    "<b style=\"color:blue\">Firewall:</b>"
   ]
  }
 ],
 "metadata": {
  "kernelspec": {
   "display_name": "Python 3",
   "language": "python",
   "name": "python3"
  },
  "language_info": {
   "codemirror_mode": {
    "name": "ipython",
    "version": 3
   },
   "file_extension": ".py",
   "mimetype": "text/x-python",
   "name": "python",
   "nbconvert_exporter": "python",
   "pygments_lexer": "ipython3",
   "version": "3.6.8"
  }
 },
 "nbformat": 4,
 "nbformat_minor": 2
}
